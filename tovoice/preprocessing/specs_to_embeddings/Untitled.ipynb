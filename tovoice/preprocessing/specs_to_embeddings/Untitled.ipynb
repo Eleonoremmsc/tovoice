{
 "cells": [
  {
   "cell_type": "code",
   "execution_count": 1,
   "id": "111909d8",
   "metadata": {},
   "outputs": [],
   "source": [
    "from specs_to_embeddings import save_embedding\n",
    "\n",
    "\n",
    "\n",
    "\n",
    "\n",
    "\n",
    "\n",
    "\n"
   ]
  },
  {
   "cell_type": "code",
   "execution_count": 2,
   "id": "1f9e8ba2",
   "metadata": {},
   "outputs": [
    {
     "name": "stdout",
     "output_type": "stream",
     "text": [
      "synthetic\n",
      "550\n",
      "synthetic\n",
      "728\n",
      "synthetic\n",
      "524\n",
      "synthetic\n",
      "523\n",
      "synthetic\n",
      "421\n",
      "synthetic\n",
      "531\n",
      "synthetic\n",
      "386\n",
      "synthetic\n",
      "550\n",
      "synthetic\n",
      "550\n",
      "synthetic\n",
      "191\n"
     ]
    }
   ],
   "source": [
    "save_embedding('synthetic')\n",
    "\n",
    "\n",
    "\n",
    "\n"
   ]
  }
 ],
 "metadata": {
  "kernelspec": {
   "display_name": "Python 3 (ipykernel)",
   "language": "python",
   "name": "python3"
  },
  "language_info": {
   "codemirror_mode": {
    "name": "ipython",
    "version": 3
   },
   "file_extension": ".py",
   "mimetype": "text/x-python",
   "name": "python",
   "nbconvert_exporter": "python",
   "pygments_lexer": "ipython3",
   "version": "3.8.13"
  },
  "toc": {
   "base_numbering": 1,
   "nav_menu": {},
   "number_sections": true,
   "sideBar": true,
   "skip_h1_title": false,
   "title_cell": "Table of Contents",
   "title_sidebar": "Contents",
   "toc_cell": false,
   "toc_position": {},
   "toc_section_display": true,
   "toc_window_display": false
  }
 },
 "nbformat": 4,
 "nbformat_minor": 5
}
